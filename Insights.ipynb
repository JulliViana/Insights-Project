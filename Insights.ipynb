{
 "cells": [
  {
   "cell_type": "markdown",
   "id": "30c2774b",
   "metadata": {},
   "source": [
    "## 0. Imports"
   ]
  },
  {
   "cell_type": "code",
   "execution_count": 59,
   "id": "03849d42",
   "metadata": {
    "ExecuteTime": {
     "end_time": "2021-10-26T15:13:34.170091Z",
     "start_time": "2021-10-26T15:13:34.107596Z"
    }
   },
   "outputs": [],
   "source": [
    "import pandas as pd\n",
    "import numpy as np\n",
    "\n",
    "from matplotlib import pyplot as plt\n",
    "\n",
    "from matplotlib import gridspec"
   ]
  },
  {
   "cell_type": "markdown",
   "id": "a8e98e17",
   "metadata": {},
   "source": [
    "## 1.0 Load data"
   ]
  },
  {
   "cell_type": "code",
   "execution_count": 8,
   "id": "b11f8845",
   "metadata": {
    "ExecuteTime": {
     "end_time": "2021-10-26T13:36:11.390796Z",
     "start_time": "2021-10-26T13:36:09.896339Z"
    }
   },
   "outputs": [],
   "source": [
    "data = pd.read_csv('datasets/kc_house_data.csv')"
   ]
  },
  {
   "cell_type": "markdown",
   "id": "c71d6a38",
   "metadata": {},
   "source": [
    "## 2.0 Functions"
   ]
  },
  {
   "cell_type": "code",
   "execution_count": 13,
   "id": "963d37d7",
   "metadata": {
    "ExecuteTime": {
     "end_time": "2021-10-26T13:42:59.857125Z",
     "start_time": "2021-10-26T13:42:59.802157Z"
    }
   },
   "outputs": [],
   "source": [
    "def get_data(path):\n",
    "    data = pd.read_csv(path)\n",
    "    return data    \n",
    "\n",
    "def show_dtypes (data):\n",
    "    print(data.dtypes)\n",
    "    return None\n",
    "\n",
    "def show_dimensions( data ):\n",
    "    print( 'Number of Rows:{}'.format( data.shape[0] ) )\n",
    "    print( 'Number of Columns {}'.format( data.shape[1] ) )\n",
    "    return None"
   ]
  },
  {
   "cell_type": "markdown",
   "id": "ef1bb229",
   "metadata": {},
   "source": [
    "## 3.0 Data dimensions"
   ]
  },
  {
   "cell_type": "code",
   "execution_count": 10,
   "id": "bb0c2543",
   "metadata": {
    "ExecuteTime": {
     "end_time": "2021-10-26T13:41:06.855416Z",
     "start_time": "2021-10-26T13:41:06.777460Z"
    }
   },
   "outputs": [
    {
     "name": "stdout",
     "output_type": "stream",
     "text": [
      "Number of Rows:21613\n",
      "Number of Columns 21\n"
     ]
    }
   ],
   "source": [
    "print ( 'Number of Rows:{}'.format( data.shape[0] ) )\n",
    "print( 'Number of Columns {}'.format( data.shape[1] ) )"
   ]
  },
  {
   "cell_type": "code",
   "execution_count": 21,
   "id": "95b4f554",
   "metadata": {
    "ExecuteTime": {
     "end_time": "2021-10-26T14:17:28.858706Z",
     "start_time": "2021-10-26T14:17:28.714205Z"
    }
   },
   "outputs": [
    {
     "data": {
      "text/plain": [
       "Index(['id', 'date', 'price', 'bedrooms', 'bathrooms', 'sqft_living',\n",
       "       'sqft_lot', 'floors', 'waterfront', 'view', 'condition', 'grade',\n",
       "       'sqft_above', 'sqft_basement', 'yr_built', 'yr_renovated', 'zipcode',\n",
       "       'lat', 'long', 'sqft_living15', 'sqft_lot15', 'dormitory_type'],\n",
       "      dtype='object')"
      ]
     },
     "execution_count": 21,
     "metadata": {},
     "output_type": "execute_result"
    }
   ],
   "source": [
    "data.columns"
   ]
  },
  {
   "cell_type": "markdown",
   "id": "f7be7d11",
   "metadata": {},
   "source": [
    "## 4.0 Data types"
   ]
  },
  {
   "cell_type": "code",
   "execution_count": 14,
   "id": "b6df1efa",
   "metadata": {
    "ExecuteTime": {
     "end_time": "2021-10-26T13:43:13.684746Z",
     "start_time": "2021-10-26T13:43:13.559821Z"
    }
   },
   "outputs": [
    {
     "name": "stdout",
     "output_type": "stream",
     "text": [
      "id                 int64\n",
      "date              object\n",
      "price            float64\n",
      "bedrooms           int64\n",
      "bathrooms        float64\n",
      "sqft_living        int64\n",
      "sqft_lot           int64\n",
      "floors           float64\n",
      "waterfront         int64\n",
      "view               int64\n",
      "condition          int64\n",
      "grade              int64\n",
      "sqft_above         int64\n",
      "sqft_basement      int64\n",
      "yr_built           int64\n",
      "yr_renovated       int64\n",
      "zipcode            int64\n",
      "lat              float64\n",
      "long             float64\n",
      "sqft_living15      int64\n",
      "sqft_lot15         int64\n",
      "dtype: object\n"
     ]
    }
   ],
   "source": [
    "show_dtypes(data)"
   ]
  },
  {
   "cell_type": "markdown",
   "id": "c0976e81",
   "metadata": {},
   "source": [
    "## 5.0 New Features"
   ]
  },
  {
   "cell_type": "code",
   "execution_count": 15,
   "id": "5fa5e04e",
   "metadata": {
    "ExecuteTime": {
     "end_time": "2021-10-26T13:46:44.448918Z",
     "start_time": "2021-10-26T13:46:44.078697Z"
    }
   },
   "outputs": [],
   "source": [
    "## format date\n",
    "\n",
    "data['date'] = pd.to_datetime( data['date'] )"
   ]
  },
  {
   "cell_type": "code",
   "execution_count": 16,
   "id": "7860ba62",
   "metadata": {
    "ExecuteTime": {
     "end_time": "2021-10-26T13:47:04.120540Z",
     "start_time": "2021-10-26T13:47:03.895670Z"
    }
   },
   "outputs": [],
   "source": [
    "## format attributes\n",
    "\n",
    "num_attributes = data.select_dtypes( include=['int64', 'float64'] )"
   ]
  },
  {
   "cell_type": "code",
   "execution_count": 17,
   "id": "009a7ca1",
   "metadata": {
    "ExecuteTime": {
     "end_time": "2021-10-26T13:47:31.675815Z",
     "start_time": "2021-10-26T13:47:30.760034Z"
    }
   },
   "outputs": [
    {
     "data": {
      "text/html": [
       "<div>\n",
       "<style scoped>\n",
       "    .dataframe tbody tr th:only-of-type {\n",
       "        vertical-align: middle;\n",
       "    }\n",
       "\n",
       "    .dataframe tbody tr th {\n",
       "        vertical-align: top;\n",
       "    }\n",
       "\n",
       "    .dataframe thead th {\n",
       "        text-align: right;\n",
       "    }\n",
       "</style>\n",
       "<table border=\"1\" class=\"dataframe\">\n",
       "  <thead>\n",
       "    <tr style=\"text-align: right;\">\n",
       "      <th></th>\n",
       "      <th>id</th>\n",
       "      <th>date</th>\n",
       "      <th>price</th>\n",
       "      <th>bedrooms</th>\n",
       "      <th>bathrooms</th>\n",
       "      <th>sqft_living</th>\n",
       "      <th>sqft_lot</th>\n",
       "      <th>floors</th>\n",
       "      <th>waterfront</th>\n",
       "      <th>view</th>\n",
       "      <th>...</th>\n",
       "      <th>grade</th>\n",
       "      <th>sqft_above</th>\n",
       "      <th>sqft_basement</th>\n",
       "      <th>yr_built</th>\n",
       "      <th>yr_renovated</th>\n",
       "      <th>zipcode</th>\n",
       "      <th>lat</th>\n",
       "      <th>long</th>\n",
       "      <th>sqft_living15</th>\n",
       "      <th>sqft_lot15</th>\n",
       "    </tr>\n",
       "  </thead>\n",
       "  <tbody>\n",
       "    <tr>\n",
       "      <th>0</th>\n",
       "      <td>7129300520</td>\n",
       "      <td>2014-10-13</td>\n",
       "      <td>221900.0</td>\n",
       "      <td>3</td>\n",
       "      <td>1.00</td>\n",
       "      <td>1180</td>\n",
       "      <td>5650</td>\n",
       "      <td>1.0</td>\n",
       "      <td>0</td>\n",
       "      <td>0</td>\n",
       "      <td>...</td>\n",
       "      <td>7</td>\n",
       "      <td>1180</td>\n",
       "      <td>0</td>\n",
       "      <td>1955</td>\n",
       "      <td>0</td>\n",
       "      <td>98178</td>\n",
       "      <td>47.5112</td>\n",
       "      <td>-122.257</td>\n",
       "      <td>1340</td>\n",
       "      <td>5650</td>\n",
       "    </tr>\n",
       "    <tr>\n",
       "      <th>1</th>\n",
       "      <td>6414100192</td>\n",
       "      <td>2014-12-09</td>\n",
       "      <td>538000.0</td>\n",
       "      <td>3</td>\n",
       "      <td>2.25</td>\n",
       "      <td>2570</td>\n",
       "      <td>7242</td>\n",
       "      <td>2.0</td>\n",
       "      <td>0</td>\n",
       "      <td>0</td>\n",
       "      <td>...</td>\n",
       "      <td>7</td>\n",
       "      <td>2170</td>\n",
       "      <td>400</td>\n",
       "      <td>1951</td>\n",
       "      <td>1991</td>\n",
       "      <td>98125</td>\n",
       "      <td>47.7210</td>\n",
       "      <td>-122.319</td>\n",
       "      <td>1690</td>\n",
       "      <td>7639</td>\n",
       "    </tr>\n",
       "    <tr>\n",
       "      <th>2</th>\n",
       "      <td>5631500400</td>\n",
       "      <td>2015-02-25</td>\n",
       "      <td>180000.0</td>\n",
       "      <td>2</td>\n",
       "      <td>1.00</td>\n",
       "      <td>770</td>\n",
       "      <td>10000</td>\n",
       "      <td>1.0</td>\n",
       "      <td>0</td>\n",
       "      <td>0</td>\n",
       "      <td>...</td>\n",
       "      <td>6</td>\n",
       "      <td>770</td>\n",
       "      <td>0</td>\n",
       "      <td>1933</td>\n",
       "      <td>0</td>\n",
       "      <td>98028</td>\n",
       "      <td>47.7379</td>\n",
       "      <td>-122.233</td>\n",
       "      <td>2720</td>\n",
       "      <td>8062</td>\n",
       "    </tr>\n",
       "    <tr>\n",
       "      <th>3</th>\n",
       "      <td>2487200875</td>\n",
       "      <td>2014-12-09</td>\n",
       "      <td>604000.0</td>\n",
       "      <td>4</td>\n",
       "      <td>3.00</td>\n",
       "      <td>1960</td>\n",
       "      <td>5000</td>\n",
       "      <td>1.0</td>\n",
       "      <td>0</td>\n",
       "      <td>0</td>\n",
       "      <td>...</td>\n",
       "      <td>7</td>\n",
       "      <td>1050</td>\n",
       "      <td>910</td>\n",
       "      <td>1965</td>\n",
       "      <td>0</td>\n",
       "      <td>98136</td>\n",
       "      <td>47.5208</td>\n",
       "      <td>-122.393</td>\n",
       "      <td>1360</td>\n",
       "      <td>5000</td>\n",
       "    </tr>\n",
       "    <tr>\n",
       "      <th>4</th>\n",
       "      <td>1954400510</td>\n",
       "      <td>2015-02-18</td>\n",
       "      <td>510000.0</td>\n",
       "      <td>3</td>\n",
       "      <td>2.00</td>\n",
       "      <td>1680</td>\n",
       "      <td>8080</td>\n",
       "      <td>1.0</td>\n",
       "      <td>0</td>\n",
       "      <td>0</td>\n",
       "      <td>...</td>\n",
       "      <td>8</td>\n",
       "      <td>1680</td>\n",
       "      <td>0</td>\n",
       "      <td>1987</td>\n",
       "      <td>0</td>\n",
       "      <td>98074</td>\n",
       "      <td>47.6168</td>\n",
       "      <td>-122.045</td>\n",
       "      <td>1800</td>\n",
       "      <td>7503</td>\n",
       "    </tr>\n",
       "  </tbody>\n",
       "</table>\n",
       "<p>5 rows × 21 columns</p>\n",
       "</div>"
      ],
      "text/plain": [
       "           id       date     price  bedrooms  bathrooms  sqft_living  \\\n",
       "0  7129300520 2014-10-13  221900.0         3       1.00         1180   \n",
       "1  6414100192 2014-12-09  538000.0         3       2.25         2570   \n",
       "2  5631500400 2015-02-25  180000.0         2       1.00          770   \n",
       "3  2487200875 2014-12-09  604000.0         4       3.00         1960   \n",
       "4  1954400510 2015-02-18  510000.0         3       2.00         1680   \n",
       "\n",
       "   sqft_lot  floors  waterfront  view  ...  grade  sqft_above  sqft_basement  \\\n",
       "0      5650     1.0           0     0  ...      7        1180              0   \n",
       "1      7242     2.0           0     0  ...      7        2170            400   \n",
       "2     10000     1.0           0     0  ...      6         770              0   \n",
       "3      5000     1.0           0     0  ...      7        1050            910   \n",
       "4      8080     1.0           0     0  ...      8        1680              0   \n",
       "\n",
       "   yr_built  yr_renovated  zipcode      lat     long  sqft_living15  \\\n",
       "0      1955             0    98178  47.5112 -122.257           1340   \n",
       "1      1951          1991    98125  47.7210 -122.319           1690   \n",
       "2      1933             0    98028  47.7379 -122.233           2720   \n",
       "3      1965             0    98136  47.5208 -122.393           1360   \n",
       "4      1987             0    98074  47.6168 -122.045           1800   \n",
       "\n",
       "   sqft_lot15  \n",
       "0        5650  \n",
       "1        7639  \n",
       "2        8062  \n",
       "3        5000  \n",
       "4        7503  \n",
       "\n",
       "[5 rows x 21 columns]"
      ]
     },
     "execution_count": 17,
     "metadata": {},
     "output_type": "execute_result"
    }
   ],
   "source": [
    "data.head()"
   ]
  },
  {
   "cell_type": "markdown",
   "id": "d16656b6",
   "metadata": {},
   "source": [
    "## 6.0 Descriptive statistical"
   ]
  },
  {
   "cell_type": "code",
   "execution_count": 24,
   "id": "0cbe432e",
   "metadata": {
    "ExecuteTime": {
     "end_time": "2021-10-26T14:25:17.147194Z",
     "start_time": "2021-10-26T14:25:16.513485Z"
    }
   },
   "outputs": [
    {
     "data": {
      "text/html": [
       "<div>\n",
       "<style scoped>\n",
       "    .dataframe tbody tr th:only-of-type {\n",
       "        vertical-align: middle;\n",
       "    }\n",
       "\n",
       "    .dataframe tbody tr th {\n",
       "        vertical-align: top;\n",
       "    }\n",
       "\n",
       "    .dataframe thead th {\n",
       "        text-align: right;\n",
       "    }\n",
       "</style>\n",
       "<table border=\"1\" class=\"dataframe\">\n",
       "  <thead>\n",
       "    <tr style=\"text-align: right;\">\n",
       "      <th></th>\n",
       "      <th>attributes</th>\n",
       "      <th>mean</th>\n",
       "      <th>median</th>\n",
       "      <th>std</th>\n",
       "      <th>max</th>\n",
       "      <th>min</th>\n",
       "    </tr>\n",
       "  </thead>\n",
       "  <tbody>\n",
       "    <tr>\n",
       "      <th>0</th>\n",
       "      <td>id</td>\n",
       "      <td>9900000190.000</td>\n",
       "      <td>1000102.000</td>\n",
       "      <td>4580301520.865</td>\n",
       "      <td>3904930410.000</td>\n",
       "      <td>2876499023.428</td>\n",
       "    </tr>\n",
       "    <tr>\n",
       "      <th>1</th>\n",
       "      <td>price</td>\n",
       "      <td>7700000.000</td>\n",
       "      <td>75000.000</td>\n",
       "      <td>540088.142</td>\n",
       "      <td>450000.000</td>\n",
       "      <td>367118.703</td>\n",
       "    </tr>\n",
       "    <tr>\n",
       "      <th>2</th>\n",
       "      <td>bedrooms</td>\n",
       "      <td>33.000</td>\n",
       "      <td>0.000</td>\n",
       "      <td>3.371</td>\n",
       "      <td>3.000</td>\n",
       "      <td>0.930</td>\n",
       "    </tr>\n",
       "    <tr>\n",
       "      <th>3</th>\n",
       "      <td>bathrooms</td>\n",
       "      <td>8.000</td>\n",
       "      <td>0.000</td>\n",
       "      <td>2.115</td>\n",
       "      <td>2.250</td>\n",
       "      <td>0.770</td>\n",
       "    </tr>\n",
       "    <tr>\n",
       "      <th>4</th>\n",
       "      <td>sqft_living</td>\n",
       "      <td>13540.000</td>\n",
       "      <td>290.000</td>\n",
       "      <td>2079.900</td>\n",
       "      <td>1910.000</td>\n",
       "      <td>918.420</td>\n",
       "    </tr>\n",
       "    <tr>\n",
       "      <th>5</th>\n",
       "      <td>sqft_lot</td>\n",
       "      <td>1651359.000</td>\n",
       "      <td>520.000</td>\n",
       "      <td>15106.968</td>\n",
       "      <td>7618.000</td>\n",
       "      <td>41419.553</td>\n",
       "    </tr>\n",
       "    <tr>\n",
       "      <th>6</th>\n",
       "      <td>floors</td>\n",
       "      <td>3.500</td>\n",
       "      <td>1.000</td>\n",
       "      <td>1.494</td>\n",
       "      <td>1.500</td>\n",
       "      <td>0.540</td>\n",
       "    </tr>\n",
       "    <tr>\n",
       "      <th>7</th>\n",
       "      <td>waterfront</td>\n",
       "      <td>1.000</td>\n",
       "      <td>0.000</td>\n",
       "      <td>0.008</td>\n",
       "      <td>0.000</td>\n",
       "      <td>0.087</td>\n",
       "    </tr>\n",
       "    <tr>\n",
       "      <th>8</th>\n",
       "      <td>view</td>\n",
       "      <td>4.000</td>\n",
       "      <td>0.000</td>\n",
       "      <td>0.234</td>\n",
       "      <td>0.000</td>\n",
       "      <td>0.766</td>\n",
       "    </tr>\n",
       "    <tr>\n",
       "      <th>9</th>\n",
       "      <td>condition</td>\n",
       "      <td>5.000</td>\n",
       "      <td>1.000</td>\n",
       "      <td>3.409</td>\n",
       "      <td>3.000</td>\n",
       "      <td>0.651</td>\n",
       "    </tr>\n",
       "    <tr>\n",
       "      <th>10</th>\n",
       "      <td>grade</td>\n",
       "      <td>13.000</td>\n",
       "      <td>1.000</td>\n",
       "      <td>7.657</td>\n",
       "      <td>7.000</td>\n",
       "      <td>1.175</td>\n",
       "    </tr>\n",
       "    <tr>\n",
       "      <th>11</th>\n",
       "      <td>sqft_above</td>\n",
       "      <td>9410.000</td>\n",
       "      <td>290.000</td>\n",
       "      <td>1788.391</td>\n",
       "      <td>1560.000</td>\n",
       "      <td>828.072</td>\n",
       "    </tr>\n",
       "    <tr>\n",
       "      <th>12</th>\n",
       "      <td>sqft_basement</td>\n",
       "      <td>4820.000</td>\n",
       "      <td>0.000</td>\n",
       "      <td>291.509</td>\n",
       "      <td>0.000</td>\n",
       "      <td>442.565</td>\n",
       "    </tr>\n",
       "    <tr>\n",
       "      <th>13</th>\n",
       "      <td>yr_built</td>\n",
       "      <td>2015.000</td>\n",
       "      <td>1900.000</td>\n",
       "      <td>1971.005</td>\n",
       "      <td>1975.000</td>\n",
       "      <td>29.373</td>\n",
       "    </tr>\n",
       "    <tr>\n",
       "      <th>14</th>\n",
       "      <td>yr_renovated</td>\n",
       "      <td>2015.000</td>\n",
       "      <td>0.000</td>\n",
       "      <td>84.402</td>\n",
       "      <td>0.000</td>\n",
       "      <td>401.670</td>\n",
       "    </tr>\n",
       "    <tr>\n",
       "      <th>15</th>\n",
       "      <td>zipcode</td>\n",
       "      <td>98199.000</td>\n",
       "      <td>98001.000</td>\n",
       "      <td>98077.940</td>\n",
       "      <td>98065.000</td>\n",
       "      <td>53.504</td>\n",
       "    </tr>\n",
       "    <tr>\n",
       "      <th>16</th>\n",
       "      <td>lat</td>\n",
       "      <td>47.778</td>\n",
       "      <td>47.156</td>\n",
       "      <td>47.560</td>\n",
       "      <td>47.572</td>\n",
       "      <td>0.139</td>\n",
       "    </tr>\n",
       "    <tr>\n",
       "      <th>17</th>\n",
       "      <td>long</td>\n",
       "      <td>-121.315</td>\n",
       "      <td>-122.519</td>\n",
       "      <td>-122.214</td>\n",
       "      <td>-122.230</td>\n",
       "      <td>0.141</td>\n",
       "    </tr>\n",
       "    <tr>\n",
       "      <th>18</th>\n",
       "      <td>sqft_living15</td>\n",
       "      <td>6210.000</td>\n",
       "      <td>399.000</td>\n",
       "      <td>1986.552</td>\n",
       "      <td>1840.000</td>\n",
       "      <td>685.375</td>\n",
       "    </tr>\n",
       "    <tr>\n",
       "      <th>19</th>\n",
       "      <td>sqft_lot15</td>\n",
       "      <td>871200.000</td>\n",
       "      <td>651.000</td>\n",
       "      <td>12768.456</td>\n",
       "      <td>7620.000</td>\n",
       "      <td>27303.548</td>\n",
       "    </tr>\n",
       "  </tbody>\n",
       "</table>\n",
       "</div>"
      ],
      "text/plain": [
       "       attributes           mean      median            std            max  \\\n",
       "0              id 9900000190.000 1000102.000 4580301520.865 3904930410.000   \n",
       "1           price    7700000.000   75000.000     540088.142     450000.000   \n",
       "2        bedrooms         33.000       0.000          3.371          3.000   \n",
       "3       bathrooms          8.000       0.000          2.115          2.250   \n",
       "4     sqft_living      13540.000     290.000       2079.900       1910.000   \n",
       "5        sqft_lot    1651359.000     520.000      15106.968       7618.000   \n",
       "6          floors          3.500       1.000          1.494          1.500   \n",
       "7      waterfront          1.000       0.000          0.008          0.000   \n",
       "8            view          4.000       0.000          0.234          0.000   \n",
       "9       condition          5.000       1.000          3.409          3.000   \n",
       "10          grade         13.000       1.000          7.657          7.000   \n",
       "11     sqft_above       9410.000     290.000       1788.391       1560.000   \n",
       "12  sqft_basement       4820.000       0.000        291.509          0.000   \n",
       "13       yr_built       2015.000    1900.000       1971.005       1975.000   \n",
       "14   yr_renovated       2015.000       0.000         84.402          0.000   \n",
       "15        zipcode      98199.000   98001.000      98077.940      98065.000   \n",
       "16            lat         47.778      47.156         47.560         47.572   \n",
       "17           long       -121.315    -122.519       -122.214       -122.230   \n",
       "18  sqft_living15       6210.000     399.000       1986.552       1840.000   \n",
       "19     sqft_lot15     871200.000     651.000      12768.456       7620.000   \n",
       "\n",
       "              min  \n",
       "0  2876499023.428  \n",
       "1      367118.703  \n",
       "2           0.930  \n",
       "3           0.770  \n",
       "4         918.420  \n",
       "5       41419.553  \n",
       "6           0.540  \n",
       "7           0.087  \n",
       "8           0.766  \n",
       "9           0.651  \n",
       "10          1.175  \n",
       "11        828.072  \n",
       "12        442.565  \n",
       "13         29.373  \n",
       "14        401.670  \n",
       "15         53.504  \n",
       "16          0.139  \n",
       "17          0.141  \n",
       "18        685.375  \n",
       "19      27303.548  "
      ]
     },
     "execution_count": 24,
     "metadata": {},
     "output_type": "execute_result"
    }
   ],
   "source": [
    "# tendency (mean e median)\n",
    "pd.set_option('display.float_format', lambda x:'%.3f' % x)\n",
    "media = pd.DataFrame( num_attributes.apply( np.mean ) )\n",
    "mediana = pd.DataFrame( num_attributes.apply( np.median ) )\n",
    "\n",
    "# dispersion (std, min, max)\n",
    "std = pd.DataFrame( num_attributes.apply( np.std ) )\n",
    "max_ = pd.DataFrame( num_attributes.apply( np.max ) )\n",
    "min_ = pd.DataFrame( num_attributes.apply( np.min ) )\n",
    "\n",
    "df1 = pd.concat( [max_, min_, media, mediana, std ], axis=1 ).reset_index()\n",
    "df1.columns = ['attributes', 'mean', 'median', 'std', 'max', 'min']\n",
    "df1"
   ]
  },
  {
   "cell_type": "markdown",
   "id": "3550419f",
   "metadata": {},
   "source": [
    "## 7.0 Data dimensions"
   ]
  },
  {
   "cell_type": "code",
   "execution_count": null,
   "id": "ef6d2ee0",
   "metadata": {
    "ExecuteTime": {
     "end_time": "2021-10-26T14:11:06.956804Z",
     "start_time": "2021-10-26T14:09:21.857Z"
    }
   },
   "outputs": [],
   "source": [
    "# dimension (df1)\n",
    "data['dormitory_type'] = 'NA'\n",
    "for i in range( len( data ) ):\n",
    "        if data.loc[i, 'bedrooms'] == 1:\n",
    "            data.loc[i, 'dormitory_type'] = 'studio'\n",
    "        elif data.loc[i, 'bedrooms'] == 2:\n",
    "            data.loc[i, 'dormitory_type'] = 'apartment'\n",
    "        else:\n",
    "            data.loc[i, 'dormitory_type'] = 'house'\n",
    "\n",
    "# dimension (data)\n",
    "            \n",
    "            data ['level'] = 'NA'\n",
    "for i in range( len( data ) ):\n",
    "        if data.loc[i, 'price'] <= 321950:\n",
    "            data.loc[i, 'level'] = 0\n",
    "        elif ( data.loc[i,'price'] > 321950 ) & ( data.loc[i,'price'] <= 450000):\n",
    "            data.loc[i, 'level'] = 1\n",
    "        elif ( data.loc[i,'price'] > 450000 ) & ( data.loc[i,'price'] <= 645000):\n",
    "            data.loc[i, 'level'] = 2\n",
    "        else:\n",
    "            data.loc[i, 'level'] = 321950"
   ]
  },
  {
   "cell_type": "markdown",
   "id": "d4265fde",
   "metadata": {},
   "source": [
    "## 8.0 Hypotheses \n",
    "\n",
    "\n",
    "### 8.1  H1: Imóveis que possuem vista para água, são 30% mais caros, na media."
   ]
  },
  {
   "cell_type": "code",
   "execution_count": 45,
   "id": "42735a29",
   "metadata": {
    "ExecuteTime": {
     "end_time": "2021-10-26T14:54:44.188164Z",
     "start_time": "2021-10-26T14:54:43.870348Z"
    }
   },
   "outputs": [
    {
     "data": {
      "text/html": [
       "<div>\n",
       "<style scoped>\n",
       "    .dataframe tbody tr th:only-of-type {\n",
       "        vertical-align: middle;\n",
       "    }\n",
       "\n",
       "    .dataframe tbody tr th {\n",
       "        vertical-align: top;\n",
       "    }\n",
       "\n",
       "    .dataframe thead th {\n",
       "        text-align: right;\n",
       "    }\n",
       "</style>\n",
       "<table border=\"1\" class=\"dataframe\">\n",
       "  <thead>\n",
       "    <tr style=\"text-align: right;\">\n",
       "      <th></th>\n",
       "      <th>waterfront</th>\n",
       "      <th>price</th>\n",
       "      <th>difference</th>\n",
       "      <th>percent diff</th>\n",
       "    </tr>\n",
       "  </thead>\n",
       "  <tbody>\n",
       "    <tr>\n",
       "      <th>0</th>\n",
       "      <td>0</td>\n",
       "      <td>531563.600</td>\n",
       "      <td>NaN</td>\n",
       "      <td>NaN</td>\n",
       "    </tr>\n",
       "    <tr>\n",
       "      <th>1</th>\n",
       "      <td>1</td>\n",
       "      <td>1661876.025</td>\n",
       "      <td>1130312.425</td>\n",
       "      <td>68.014</td>\n",
       "    </tr>\n",
       "  </tbody>\n",
       "</table>\n",
       "</div>"
      ],
      "text/plain": [
       "   waterfront       price  difference  percent diff\n",
       "0           0  531563.600         NaN           NaN\n",
       "1           1 1661876.025 1130312.425        68.014"
      ]
     },
     "execution_count": 45,
     "metadata": {},
     "output_type": "execute_result"
    }
   ],
   "source": [
    "mprice_by_waterfront = data[['waterfront', 'price']].groupby('waterfront').mean().reset_index()\n",
    "mprice_by_waterfront['difference'] = mprice_by_waterfront['price'].diff(1)\n",
    "mprice_by_waterfront['percent diff'] = mprice_by_waterfront['difference'] / mprice_by_waterfront['price']*100\n",
    "mprice_by_waterfront"
   ]
  },
  {
   "cell_type": "code",
   "execution_count": 73,
   "id": "0e60611c",
   "metadata": {
    "ExecuteTime": {
     "end_time": "2021-10-26T15:41:32.420731Z",
     "start_time": "2021-10-26T15:41:29.221320Z"
    }
   },
   "outputs": [
    {
     "data": {
      "text/plain": [
       "<BarContainer object of 2 artists>"
      ]
     },
     "execution_count": 73,
     "metadata": {},
     "output_type": "execute_result"
    },
    {
     "data": {
      "image/png": "[encoded data removed]",
      "text/plain": [
       "<Figure size 864x432 with 1 Axes>"
      ]
     },
     "metadata": {
      "needs_background": "light"
     },
     "output_type": "display_data"
    }
   ],
   "source": [
    "# graphic\n",
    "plt.figure(figsize=(12,6))\n",
    "plt.bar(['No waterfront','Waterfront'], meanprice_by_waterfront['price'])"
   ]
  },
  {
   "cell_type": "markdown",
   "id": "ab0b62ed",
   "metadata": {},
   "source": [
    "### 5.2  H2: Imóveis com data de construção menor que 1955, são 50% mais baratos, na média"
   ]
  },
  {
   "cell_type": "code",
   "execution_count": 32,
   "id": "6e4a7bbb",
   "metadata": {
    "ExecuteTime": {
     "end_time": "2021-10-26T14:36:04.876388Z",
     "start_time": "2021-10-26T14:36:04.146654Z"
    }
   },
   "outputs": [
    {
     "data": {
      "text/html": [
       "<div>\n",
       "<style scoped>\n",
       "    .dataframe tbody tr th:only-of-type {\n",
       "        vertical-align: middle;\n",
       "    }\n",
       "\n",
       "    .dataframe tbody tr th {\n",
       "        vertical-align: top;\n",
       "    }\n",
       "\n",
       "    .dataframe thead th {\n",
       "        text-align: right;\n",
       "    }\n",
       "</style>\n",
       "<table border=\"1\" class=\"dataframe\">\n",
       "  <thead>\n",
       "    <tr style=\"text-align: right;\">\n",
       "      <th></th>\n",
       "      <th>id</th>\n",
       "      <th>date</th>\n",
       "      <th>price</th>\n",
       "      <th>bedrooms</th>\n",
       "      <th>bathrooms</th>\n",
       "      <th>sqft_living</th>\n",
       "      <th>sqft_lot</th>\n",
       "      <th>floors</th>\n",
       "      <th>waterfront</th>\n",
       "      <th>view</th>\n",
       "      <th>...</th>\n",
       "      <th>sqft_basement</th>\n",
       "      <th>yr_built</th>\n",
       "      <th>yr_renovated</th>\n",
       "      <th>zipcode</th>\n",
       "      <th>lat</th>\n",
       "      <th>long</th>\n",
       "      <th>sqft_living15</th>\n",
       "      <th>sqft_lot15</th>\n",
       "      <th>dormitory_type</th>\n",
       "      <th>old_house</th>\n",
       "    </tr>\n",
       "  </thead>\n",
       "  <tbody>\n",
       "    <tr>\n",
       "      <th>0</th>\n",
       "      <td>7129300520</td>\n",
       "      <td>2014-10-13</td>\n",
       "      <td>221900.000</td>\n",
       "      <td>3</td>\n",
       "      <td>1.000</td>\n",
       "      <td>1180</td>\n",
       "      <td>5650</td>\n",
       "      <td>1.000</td>\n",
       "      <td>0</td>\n",
       "      <td>0</td>\n",
       "      <td>...</td>\n",
       "      <td>0</td>\n",
       "      <td>1955</td>\n",
       "      <td>0</td>\n",
       "      <td>98178</td>\n",
       "      <td>47.511</td>\n",
       "      <td>-122.257</td>\n",
       "      <td>1340</td>\n",
       "      <td>5650</td>\n",
       "      <td>house</td>\n",
       "      <td>False</td>\n",
       "    </tr>\n",
       "    <tr>\n",
       "      <th>1</th>\n",
       "      <td>6414100192</td>\n",
       "      <td>2014-12-09</td>\n",
       "      <td>538000.000</td>\n",
       "      <td>3</td>\n",
       "      <td>2.250</td>\n",
       "      <td>2570</td>\n",
       "      <td>7242</td>\n",
       "      <td>2.000</td>\n",
       "      <td>0</td>\n",
       "      <td>0</td>\n",
       "      <td>...</td>\n",
       "      <td>400</td>\n",
       "      <td>1951</td>\n",
       "      <td>1991</td>\n",
       "      <td>98125</td>\n",
       "      <td>47.721</td>\n",
       "      <td>-122.319</td>\n",
       "      <td>1690</td>\n",
       "      <td>7639</td>\n",
       "      <td>house</td>\n",
       "      <td>True</td>\n",
       "    </tr>\n",
       "    <tr>\n",
       "      <th>2</th>\n",
       "      <td>5631500400</td>\n",
       "      <td>2015-02-25</td>\n",
       "      <td>180000.000</td>\n",
       "      <td>2</td>\n",
       "      <td>1.000</td>\n",
       "      <td>770</td>\n",
       "      <td>10000</td>\n",
       "      <td>1.000</td>\n",
       "      <td>0</td>\n",
       "      <td>0</td>\n",
       "      <td>...</td>\n",
       "      <td>0</td>\n",
       "      <td>1933</td>\n",
       "      <td>0</td>\n",
       "      <td>98028</td>\n",
       "      <td>47.738</td>\n",
       "      <td>-122.233</td>\n",
       "      <td>2720</td>\n",
       "      <td>8062</td>\n",
       "      <td>apartment</td>\n",
       "      <td>True</td>\n",
       "    </tr>\n",
       "    <tr>\n",
       "      <th>3</th>\n",
       "      <td>2487200875</td>\n",
       "      <td>2014-12-09</td>\n",
       "      <td>604000.000</td>\n",
       "      <td>4</td>\n",
       "      <td>3.000</td>\n",
       "      <td>1960</td>\n",
       "      <td>5000</td>\n",
       "      <td>1.000</td>\n",
       "      <td>0</td>\n",
       "      <td>0</td>\n",
       "      <td>...</td>\n",
       "      <td>910</td>\n",
       "      <td>1965</td>\n",
       "      <td>0</td>\n",
       "      <td>98136</td>\n",
       "      <td>47.521</td>\n",
       "      <td>-122.393</td>\n",
       "      <td>1360</td>\n",
       "      <td>5000</td>\n",
       "      <td>house</td>\n",
       "      <td>False</td>\n",
       "    </tr>\n",
       "    <tr>\n",
       "      <th>4</th>\n",
       "      <td>1954400510</td>\n",
       "      <td>2015-02-18</td>\n",
       "      <td>510000.000</td>\n",
       "      <td>3</td>\n",
       "      <td>2.000</td>\n",
       "      <td>1680</td>\n",
       "      <td>8080</td>\n",
       "      <td>1.000</td>\n",
       "      <td>0</td>\n",
       "      <td>0</td>\n",
       "      <td>...</td>\n",
       "      <td>0</td>\n",
       "      <td>1987</td>\n",
       "      <td>0</td>\n",
       "      <td>98074</td>\n",
       "      <td>47.617</td>\n",
       "      <td>-122.045</td>\n",
       "      <td>1800</td>\n",
       "      <td>7503</td>\n",
       "      <td>house</td>\n",
       "      <td>False</td>\n",
       "    </tr>\n",
       "  </tbody>\n",
       "</table>\n",
       "<p>5 rows × 23 columns</p>\n",
       "</div>"
      ],
      "text/plain": [
       "           id       date      price  bedrooms  bathrooms  sqft_living  \\\n",
       "0  7129300520 2014-10-13 221900.000         3      1.000         1180   \n",
       "1  6414100192 2014-12-09 538000.000         3      2.250         2570   \n",
       "2  5631500400 2015-02-25 180000.000         2      1.000          770   \n",
       "3  2487200875 2014-12-09 604000.000         4      3.000         1960   \n",
       "4  1954400510 2015-02-18 510000.000         3      2.000         1680   \n",
       "\n",
       "   sqft_lot  floors  waterfront  view  ...  sqft_basement  yr_built  \\\n",
       "0      5650   1.000           0     0  ...              0      1955   \n",
       "1      7242   2.000           0     0  ...            400      1951   \n",
       "2     10000   1.000           0     0  ...              0      1933   \n",
       "3      5000   1.000           0     0  ...            910      1965   \n",
       "4      8080   1.000           0     0  ...              0      1987   \n",
       "\n",
       "   yr_renovated  zipcode    lat     long  sqft_living15  sqft_lot15  \\\n",
       "0             0    98178 47.511 -122.257           1340        5650   \n",
       "1          1991    98125 47.721 -122.319           1690        7639   \n",
       "2             0    98028 47.738 -122.233           2720        8062   \n",
       "3             0    98136 47.521 -122.393           1360        5000   \n",
       "4             0    98074 47.617 -122.045           1800        7503   \n",
       "\n",
       "   dormitory_type  old_house  \n",
       "0           house      False  \n",
       "1           house       True  \n",
       "2       apartment       True  \n",
       "3           house      False  \n",
       "4           house      False  \n",
       "\n",
       "[5 rows x 23 columns]"
      ]
     },
     "execution_count": 32,
     "metadata": {},
     "output_type": "execute_result"
    }
   ],
   "source": [
    "# incluir coluna de False ou True\n",
    "data['old_house'] = False\n",
    "\n",
    "#anos anteriores que 1955 são True\n",
    "data.loc[data['yr_built']<1955, 'old_house'] = True\n",
    "\n",
    "#anos após 1955 são False\n",
    "data.loc[data['yr_built']>=1955, 'old_house'] = False\n",
    "data.head()"
   ]
  },
  {
   "cell_type": "code",
   "execution_count": 35,
   "id": "04da3043",
   "metadata": {
    "ExecuteTime": {
     "end_time": "2021-10-26T14:41:08.912315Z",
     "start_time": "2021-10-26T14:41:08.702432Z"
    }
   },
   "outputs": [
    {
     "data": {
      "text/html": [
       "<div>\n",
       "<style scoped>\n",
       "    .dataframe tbody tr th:only-of-type {\n",
       "        vertical-align: middle;\n",
       "    }\n",
       "\n",
       "    .dataframe tbody tr th {\n",
       "        vertical-align: top;\n",
       "    }\n",
       "\n",
       "    .dataframe thead th {\n",
       "        text-align: right;\n",
       "    }\n",
       "</style>\n",
       "<table border=\"1\" class=\"dataframe\">\n",
       "  <thead>\n",
       "    <tr style=\"text-align: right;\">\n",
       "      <th></th>\n",
       "      <th>old_house</th>\n",
       "      <th>mean_price</th>\n",
       "    </tr>\n",
       "  </thead>\n",
       "  <tbody>\n",
       "    <tr>\n",
       "      <th>0</th>\n",
       "      <td>False</td>\n",
       "      <td>541299.968</td>\n",
       "    </tr>\n",
       "    <tr>\n",
       "      <th>1</th>\n",
       "      <td>True</td>\n",
       "      <td>537050.908</td>\n",
       "    </tr>\n",
       "  </tbody>\n",
       "</table>\n",
       "</div>"
      ],
      "text/plain": [
       "   old_house  mean_price\n",
       "0      False  541299.968\n",
       "1       True  537050.908"
      ]
     },
     "execution_count": 35,
     "metadata": {},
     "output_type": "execute_result"
    }
   ],
   "source": [
    "# media\n",
    "m_prices = data[['old_house','price']].groupby('old_house').mean().reset_index()\n",
    "m_prices.columns = ['old_house', 'mean_price']\n",
    "m_prices"
   ]
  },
  {
   "cell_type": "code",
   "execution_count": 48,
   "id": "25938248",
   "metadata": {
    "ExecuteTime": {
     "end_time": "2021-10-26T14:57:26.948000Z",
     "start_time": "2021-10-26T14:57:26.812076Z"
    }
   },
   "outputs": [
    {
     "data": {
      "text/html": [
       "<div>\n",
       "<style scoped>\n",
       "    .dataframe tbody tr th:only-of-type {\n",
       "        vertical-align: middle;\n",
       "    }\n",
       "\n",
       "    .dataframe tbody tr th {\n",
       "        vertical-align: top;\n",
       "    }\n",
       "\n",
       "    .dataframe thead th {\n",
       "        text-align: right;\n",
       "    }\n",
       "</style>\n",
       "<table border=\"1\" class=\"dataframe\">\n",
       "  <thead>\n",
       "    <tr style=\"text-align: right;\">\n",
       "      <th></th>\n",
       "      <th>old_house</th>\n",
       "      <th>mean_price</th>\n",
       "      <th>difference</th>\n",
       "      <th>Percent diff</th>\n",
       "      <th>percent diff</th>\n",
       "    </tr>\n",
       "  </thead>\n",
       "  <tbody>\n",
       "    <tr>\n",
       "      <th>0</th>\n",
       "      <td>False</td>\n",
       "      <td>541299.968</td>\n",
       "      <td>NaN</td>\n",
       "      <td>NaN</td>\n",
       "      <td>NaN</td>\n",
       "    </tr>\n",
       "    <tr>\n",
       "      <th>1</th>\n",
       "      <td>True</td>\n",
       "      <td>537050.908</td>\n",
       "      <td>-4249.061</td>\n",
       "      <td>-0.791</td>\n",
       "      <td>-0.791</td>\n",
       "    </tr>\n",
       "  </tbody>\n",
       "</table>\n",
       "</div>"
      ],
      "text/plain": [
       "   old_house  mean_price  difference  Percent diff  percent diff\n",
       "0      False  541299.968         NaN           NaN           NaN\n",
       "1       True  537050.908   -4249.061        -0.791        -0.791"
      ]
     },
     "execution_count": 48,
     "metadata": {},
     "output_type": "execute_result"
    }
   ],
   "source": [
    "# comparar\n",
    "m_prices['difference'] = m_prices['mean_price'].diff(1)\n",
    "m_prices['percent diff'] = m_prices['difference'] / m_prices['mean_price']*100\n",
    "m_prices"
   ]
  },
  {
   "cell_type": "code",
   "execution_count": 72,
   "id": "a0e4aa13",
   "metadata": {
    "ExecuteTime": {
     "end_time": "2021-10-26T15:41:17.353152Z",
     "start_time": "2021-10-26T15:41:15.177185Z"
    }
   },
   "outputs": [
    {
     "data": {
      "text/plain": [
       "<BarContainer object of 2 artists>"
      ]
     },
     "execution_count": 72,
     "metadata": {},
     "output_type": "execute_result"
    },
    {
     "data": {
      "image/png": "[encoded data removed]",
      "text/plain": [
       "<Figure size 864x432 with 1 Axes>"
      ]
     },
     "metadata": {
      "needs_background": "light"
     },
     "output_type": "display_data"
    }
   ],
   "source": [
    "# graphic\n",
    "\n",
    "plt.figure(figsize=(12,6))\n",
    "plt.bar(['Old Houses','New Houses'], m_prices['mean_price'])"
   ]
  },
  {
   "cell_type": "markdown",
   "id": "6b28cd04",
   "metadata": {},
   "source": [
    "### 5.3  H3:Imóveis sem porão possuem sqrt_lot, são 50% maiores do que com porão."
   ]
  },
  {
   "cell_type": "code",
   "execution_count": 50,
   "id": "682cd156",
   "metadata": {
    "ExecuteTime": {
     "end_time": "2021-10-26T15:06:03.068395Z",
     "start_time": "2021-10-26T15:06:02.791553Z"
    }
   },
   "outputs": [],
   "source": [
    "# definir os que imóveis sem e com porão\n",
    "\n",
    "h_basement    = data[data['sqft_basement']>0]\n",
    "h_no_basement = data[data['sqft_basement']==0]"
   ]
  },
  {
   "cell_type": "code",
   "execution_count": 54,
   "id": "66e3b61e",
   "metadata": {
    "ExecuteTime": {
     "end_time": "2021-10-26T15:10:11.601767Z",
     "start_time": "2021-10-26T15:10:11.554797Z"
    }
   },
   "outputs": [
    {
     "name": "stdout",
     "output_type": "stream",
     "text": [
      "18.409784757710298%\n"
     ]
    }
   ],
   "source": [
    "# mean\n",
    "\n",
    "m_lot_hb  = h_basement['sqft_lot'].mean()\n",
    "m_lot_hnb = h_no_basement['sqft_lot'].mean()\n",
    "\n",
    "difference = m_lot_hnb - m_lot_hb\n",
    "percent = difference*100/m_lot_hnb\n",
    "\n",
    "print(str(percent)+'%')"
   ]
  },
  {
   "cell_type": "code",
   "execution_count": 70,
   "id": "fd1b6aab",
   "metadata": {
    "ExecuteTime": {
     "end_time": "2021-10-26T15:38:22.739749Z",
     "start_time": "2021-10-26T15:38:18.800178Z"
    }
   },
   "outputs": [
    {
     "data": {
      "text/plain": [
       "<BarContainer object of 2 artists>"
      ]
     },
     "execution_count": 70,
     "metadata": {},
     "output_type": "execute_result"
    },
    {
     "data": {
      "image/png": "[encoded data removed]",
      "text/plain": [
       "<Figure size 864x432 with 1 Axes>"
      ]
     },
     "metadata": {
      "needs_background": "light"
     },
     "output_type": "display_data"
    }
   ],
   "source": [
    "# grafich\n",
    "\n",
    "plt.figure(figsize=(12,6))\n",
    "plt.bar(['Mean With Basement','Mean Without Basement'], [m_lot_hb,m_lot_hnb])"
   ]
  },
  {
   "cell_type": "markdown",
   "id": "1e6a04ac",
   "metadata": {},
   "source": [
    "### 5.4  H4: O crescimento do preço dos imóveis YoY ( Year over Year ) é de 10%."
   ]
  },
  {
   "cell_type": "code",
   "execution_count": 61,
   "id": "af6f3871",
   "metadata": {
    "ExecuteTime": {
     "end_time": "2021-10-26T15:18:30.480043Z",
     "start_time": "2021-10-26T15:18:30.206199Z"
    }
   },
   "outputs": [],
   "source": [
    "# date year\n",
    "\n",
    "df = data[['date', 'price']].copy()\n",
    "df['date_year'] = df['date'].dt.year"
   ]
  },
  {
   "cell_type": "code",
   "execution_count": 63,
   "id": "fd404126",
   "metadata": {
    "ExecuteTime": {
     "end_time": "2021-10-26T15:19:52.393127Z",
     "start_time": "2021-10-26T15:19:51.758491Z"
    }
   },
   "outputs": [
    {
     "data": {
      "text/html": [
       "<div>\n",
       "<style scoped>\n",
       "    .dataframe tbody tr th:only-of-type {\n",
       "        vertical-align: middle;\n",
       "    }\n",
       "\n",
       "    .dataframe tbody tr th {\n",
       "        vertical-align: top;\n",
       "    }\n",
       "\n",
       "    .dataframe thead th {\n",
       "        text-align: right;\n",
       "    }\n",
       "</style>\n",
       "<table border=\"1\" class=\"dataframe\">\n",
       "  <thead>\n",
       "    <tr style=\"text-align: right;\">\n",
       "      <th></th>\n",
       "      <th>date_year</th>\n",
       "      <th>price</th>\n",
       "      <th>difference</th>\n",
       "      <th>Percent diff</th>\n",
       "    </tr>\n",
       "  </thead>\n",
       "  <tbody>\n",
       "    <tr>\n",
       "      <th>0</th>\n",
       "      <td>2014</td>\n",
       "      <td>539181.428</td>\n",
       "      <td>NaN</td>\n",
       "      <td>NaN</td>\n",
       "    </tr>\n",
       "    <tr>\n",
       "      <th>1</th>\n",
       "      <td>2015</td>\n",
       "      <td>541988.992</td>\n",
       "      <td>2807.564</td>\n",
       "      <td>0.518</td>\n",
       "    </tr>\n",
       "  </tbody>\n",
       "</table>\n",
       "</div>"
      ],
      "text/plain": [
       "   date_year      price  difference  Percent diff\n",
       "0       2014 539181.428         NaN           NaN\n",
       "1       2015 541988.992    2807.564         0.518"
      ]
     },
     "execution_count": 63,
     "metadata": {},
     "output_type": "execute_result"
    }
   ],
   "source": [
    "# mean year\n",
    "\n",
    "mprice_year = df[['price', 'date_year']].groupby('date_year').mean().reset_index()\n",
    "mprice_year['difference'] = mprice_year['price'].diff(1)\n",
    "mprice_year['Percent diff'] = mprice_year['difference'] / mprice_year['price']*100\n",
    "mprice_year"
   ]
  },
  {
   "cell_type": "code",
   "execution_count": 71,
   "id": "cfd78c22",
   "metadata": {
    "ExecuteTime": {
     "end_time": "2021-10-26T15:40:34.409355Z",
     "start_time": "2021-10-26T15:40:30.790305Z"
    }
   },
   "outputs": [
    {
     "data": {
      "text/plain": [
       "[<matplotlib.lines.Line2D at 0x2902bcf4310>]"
      ]
     },
     "execution_count": 71,
     "metadata": {},
     "output_type": "execute_result"
    },
    {
     "data": {
      "image/png": "[encoded data removed]",
      "text/plain": [
       "<Figure size 864x432 with 1 Axes>"
      ]
     },
     "metadata": {
      "needs_background": "light"
     },
     "output_type": "display_data"
    }
   ],
   "source": [
    "# graphic\n",
    "\n",
    "plt.figure(figsize=(12,6))\n",
    "plt.plot( mprice_year['date_year'], mprice_year['price'] )"
   ]
  },
  {
   "cell_type": "markdown",
   "id": "9111d817",
   "metadata": {},
   "source": [
    "### 5  H5: Imóveis com 3 banheiros tem um crescimento MoM ( Month over Month ) de 15%."
   ]
  },
  {
   "cell_type": "code",
   "execution_count": 65,
   "id": "b3e249e8",
   "metadata": {
    "ExecuteTime": {
     "end_time": "2021-10-26T15:23:56.920493Z",
     "start_time": "2021-10-26T15:23:54.757732Z"
    }
   },
   "outputs": [
    {
     "data": {
      "text/html": [
       "<div>\n",
       "<style scoped>\n",
       "    .dataframe tbody tr th:only-of-type {\n",
       "        vertical-align: middle;\n",
       "    }\n",
       "\n",
       "    .dataframe tbody tr th {\n",
       "        vertical-align: top;\n",
       "    }\n",
       "\n",
       "    .dataframe thead th {\n",
       "        text-align: right;\n",
       "    }\n",
       "</style>\n",
       "<table border=\"1\" class=\"dataframe\">\n",
       "  <thead>\n",
       "    <tr style=\"text-align: right;\">\n",
       "      <th></th>\n",
       "      <th>date_monthly</th>\n",
       "      <th>price</th>\n",
       "      <th>pct_change</th>\n",
       "    </tr>\n",
       "  </thead>\n",
       "  <tbody>\n",
       "    <tr>\n",
       "      <th>0</th>\n",
       "      <td>2014-05</td>\n",
       "      <td>690080.714</td>\n",
       "      <td>NaN</td>\n",
       "    </tr>\n",
       "    <tr>\n",
       "      <th>1</th>\n",
       "      <td>2014-06</td>\n",
       "      <td>775057.564</td>\n",
       "      <td>12.314</td>\n",
       "    </tr>\n",
       "    <tr>\n",
       "      <th>2</th>\n",
       "      <td>2014-07</td>\n",
       "      <td>741405.043</td>\n",
       "      <td>-4.342</td>\n",
       "    </tr>\n",
       "    <tr>\n",
       "      <th>3</th>\n",
       "      <td>2014-08</td>\n",
       "      <td>737576.562</td>\n",
       "      <td>-0.516</td>\n",
       "    </tr>\n",
       "    <tr>\n",
       "      <th>4</th>\n",
       "      <td>2014-09</td>\n",
       "      <td>645246.887</td>\n",
       "      <td>-12.518</td>\n",
       "    </tr>\n",
       "    <tr>\n",
       "      <th>5</th>\n",
       "      <td>2014-10</td>\n",
       "      <td>645523.015</td>\n",
       "      <td>0.043</td>\n",
       "    </tr>\n",
       "    <tr>\n",
       "      <th>6</th>\n",
       "      <td>2014-11</td>\n",
       "      <td>679910.465</td>\n",
       "      <td>5.327</td>\n",
       "    </tr>\n",
       "    <tr>\n",
       "      <th>7</th>\n",
       "      <td>2014-12</td>\n",
       "      <td>728341.188</td>\n",
       "      <td>7.123</td>\n",
       "    </tr>\n",
       "    <tr>\n",
       "      <th>8</th>\n",
       "      <td>2015-01</td>\n",
       "      <td>672923.171</td>\n",
       "      <td>-7.609</td>\n",
       "    </tr>\n",
       "    <tr>\n",
       "      <th>9</th>\n",
       "      <td>2015-02</td>\n",
       "      <td>696714.422</td>\n",
       "      <td>3.536</td>\n",
       "    </tr>\n",
       "    <tr>\n",
       "      <th>10</th>\n",
       "      <td>2015-03</td>\n",
       "      <td>768495.096</td>\n",
       "      <td>10.303</td>\n",
       "    </tr>\n",
       "    <tr>\n",
       "      <th>11</th>\n",
       "      <td>2015-04</td>\n",
       "      <td>709751.988</td>\n",
       "      <td>-7.644</td>\n",
       "    </tr>\n",
       "    <tr>\n",
       "      <th>12</th>\n",
       "      <td>2015-05</td>\n",
       "      <td>686351.950</td>\n",
       "      <td>-3.297</td>\n",
       "    </tr>\n",
       "  </tbody>\n",
       "</table>\n",
       "</div>"
      ],
      "text/plain": [
       "   date_monthly      price  pct_change\n",
       "0       2014-05 690080.714         NaN\n",
       "1       2014-06 775057.564      12.314\n",
       "2       2014-07 741405.043      -4.342\n",
       "3       2014-08 737576.562      -0.516\n",
       "4       2014-09 645246.887     -12.518\n",
       "5       2014-10 645523.015       0.043\n",
       "6       2014-11 679910.465       5.327\n",
       "7       2014-12 728341.188       7.123\n",
       "8       2015-01 672923.171      -7.609\n",
       "9       2015-02 696714.422       3.536\n",
       "10      2015-03 768495.096      10.303\n",
       "11      2015-04 709751.988      -7.644\n",
       "12      2015-05 686351.950      -3.297"
      ]
     },
     "execution_count": 65,
     "metadata": {},
     "output_type": "execute_result"
    }
   ],
   "source": [
    "df_monthly = data[['date', 'price', 'bathrooms']].copy()\n",
    "df_monthly = df_monthly[df_monthly['bathrooms'] == 3]\n",
    "df_monthly['date_monthly'] = df_monthly['date'].dt.strftime('%Y-%m')\n",
    "\n",
    "# mean df_monthly\n",
    "\n",
    "mprice_monthly_pct = df_monthly[['price', 'date_monthly']].groupby(['date_monthly']).mean().reset_index()\n",
    "mprice_monthly_pct['pct_change'] = mprice_monthly_pct['price'].pct_change()*100\n",
    "meanprice_monthly_pct"
   ]
  },
  {
   "cell_type": "code",
   "execution_count": 69,
   "id": "6622069a",
   "metadata": {
    "ExecuteTime": {
     "end_time": "2021-10-26T15:31:01.045121Z",
     "start_time": "2021-10-26T15:30:47.982821Z"
    }
   },
   "outputs": [
    {
     "data": {
      "image/png": "[encoded data removed]",
      "text/plain": [
       "<Figure size 864x432 with 1 Axes>"
      ]
     },
     "metadata": {
      "needs_background": "light"
     },
     "output_type": "display_data"
    }
   ],
   "source": [
    "# graphic\n",
    "\n",
    "plt.figure(figsize=(12,6))\n",
    "plt.plot( mprice_monthly_pct['date_monthly'], mprice_monthly_pct['pct_change'] )\n",
    "plt.xticks(rotation=45);"
   ]
  },
  {
   "cell_type": "code",
   "execution_count": null,
   "id": "8b34bd6d",
   "metadata": {},
   "outputs": [],
   "source": []
  }
 ],
 "metadata": {
  "kernelspec": {
   "display_name": "Python 3",
   "language": "python",
   "name": "python3"
  },
  "language_info": {
   "codemirror_mode": {
    "name": "ipython",
    "version": 3
   },
   "file_extension": ".py",
   "mimetype": "text/x-python",
   "name": "python",
   "nbconvert_exporter": "python",
   "pygments_lexer": "ipython3",
   "version": "3.8.8"
  },
  "toc": {
   "base_numbering": 1,
   "nav_menu": {},
   "number_sections": true,
   "sideBar": true,
   "skip_h1_title": false,
   "title_cell": "Table of Contents",
   "title_sidebar": "Contents",
   "toc_cell": false,
   "toc_position": {},
   "toc_section_display": true,
   "toc_window_display": false
  }
 },
 "nbformat": 4,
 "nbformat_minor": 5
}
